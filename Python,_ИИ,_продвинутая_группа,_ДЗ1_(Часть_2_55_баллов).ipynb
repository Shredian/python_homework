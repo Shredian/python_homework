{
 "nbformat": 4,
 "nbformat_minor": 0,
 "metadata": {
  "colab": {
   "provenance": []
  },
  "kernelspec": {
   "name": "python3",
   "language": "python",
   "display_name": "Python 3 (ipykernel)"
  },
  "language_info": {
   "name": "python"
  }
 },
 "cells": [
  {
   "cell_type": "markdown",
   "source": [
    "Первая часть ДЗ находится здесь: https://official.contest.yandex.ru/contest/67840/enter\n",
    "\n",
    "Эта часть будет проверяться полностью вручную.\n",
    "За качество кода баллы могут быть снижены."
   ],
   "metadata": {
    "id": "3l-0ahLPQQd3"
   }
  },
  {
   "cell_type": "markdown",
   "source": [
    "### Задача 1. Декоратор. (15)\n",
    "\n",
    "Напишите декоратор, который будет выполнять функцию трижды, делая между выполнениями перерыв в 2 секунды. После каждого выполнения декоратор должен выводить на экран аргументы функции и результат работы (возвращаемое значение)"
   ],
   "metadata": {
    "id": "Kr8O7js8QdFD"
   }
  },
  {
   "cell_type": "code",
   "source": [
    "import time\n",
    "\n",
    "def repeat_three_times(func):\n",
    "    def repeater(*args, **kwargs):\n",
    "        for i in range(3):\n",
    "            res = func(*args, **kwargs)\n",
    "            print(f\"Arguments: {args}, {kwargs}\")\n",
    "            print(f\"Func res: {res}\")\n",
    "            time.sleep(2)\n",
    "        return res\n",
    "    return repeater"
   ],
   "metadata": {
    "id": "8rnqhsSGQfPR",
    "ExecuteTime": {
     "start_time": "2024-09-29T23:41:39.280812Z",
     "end_time": "2024-09-29T23:41:39.285798Z"
    }
   },
   "execution_count": 2,
   "outputs": []
  },
  {
   "cell_type": "markdown",
   "source": [
    "### Задача 2. Генератор. (20)\n",
    "\n",
    "Напишите генератор, который принимает коллекцию с вложенными итерируемыми объектами, а возвращает каждый элемент последовательно.Если \"распаковать\" все получаемые значения в list, получится \"сплющенный\" список. Например:\n",
    "\n",
    "[[1, 2, 3], [4, [5, 6, [7, 8]]]] -> [1, 2, 3, 4, 5, 6, 7, 8]\n",
    "\n",
    "UPD. Еще пример:\n",
    "[1, 2, 'abc', [2, 4], {'key' : 'value'}]\n",
    "\n",
    "-> [1, 2, 'a', 'b', 'c', 2, 4, 'k', 'e', 'y']"
   ],
   "metadata": {
    "id": "MqYm6QvUSko4"
   }
  },
  {
   "cell_type": "code",
   "source": [],
   "metadata": {
    "id": "0jam99w5WHA2",
    "ExecuteTime": {
     "start_time": "2024-09-29T23:44:59.245312Z",
     "end_time": "2024-09-29T23:44:59.256282Z"
    }
   },
   "execution_count": 4,
   "outputs": [
    {
     "name": "stdout",
     "output_type": "stream",
     "text": [
      "[1, 2, 3, 4, 5, 6, 7, 8]\n",
      "[1, 2, 'a', 'b', 'c', 2, 4, 'key']\n"
     ]
    }
   ]
  },
  {
   "cell_type": "markdown",
   "source": [
    "### Задача 3. itertools (15)\n",
    "\n",
    "Модуль itertools представляет много инструментов для работы с итераторами.\n",
    "\n",
    "Ознакомиться с ними можно здесь: https://docs.python.org/3/library/itertools.html\n",
    "\n",
    "Вводится числа через пробел с одной строке. Затем вводится число n.\n",
    "\n",
    "Напишите программу, которая находит все уникальные пары чисел из списка, где сумма каждой пары равна числу n. Можете использовать itertools.\n",
    "\n",
    "Например, списка [1, 2, 3, 4, 5, 6] и n=7 программа должна вывести пары чисел, которые в сумме дают 7: [(1, 6), (2, 5), (3, 4)]."
   ],
   "metadata": {
    "id": "oMq97028UDAG"
   }
  },
  {
   "cell_type": "code",
   "source": [
    "from itertools import  combinations\n",
    "\n",
    "nums = list(map(int, input().split()))\n",
    "n = int(input())\n",
    "\n",
    "pairs = [pair for pair in combinations(nums, 2) if sum(pair) == n]\n",
    "\n",
    "pairs"
   ],
   "metadata": {
    "id": "VN20gozgWHiy"
   },
   "execution_count": null,
   "outputs": []
  },
  {
   "cell_type": "markdown",
   "source": [
    "## Задача 4.1 Очень функциональное программирование (2).\n",
    "\n",
    "Вводятся числа в одной строке через пробел.\n",
    "\n",
    "Например, '4 2 5 2 5 1'\n",
    "\n",
    "Необходимо найти наименьшее нечетное число. Например, для примера выше это 1.\n",
    "\n",
    "Решение должно занимать ровно одну строку любой длины.\n",
    "\n",
    "Запрещено использовать циклы, условные операторы и list comprehension.\n"
   ],
   "metadata": {
    "id": "_jSc7xl-VCCq"
   }
  },
  {
   "cell_type": "code",
   "source": [
    "print(min(filter(lambda x: int(x) % 2 != 0, input().split()), key=int))"
   ],
   "metadata": {
    "id": "ido4_rnfWSJa"
   },
   "execution_count": null,
   "outputs": []
  },
  {
   "cell_type": "markdown",
   "source": [
    "## Задача 4.2 itertools и очень функциональное программирование (3)."
   ],
   "metadata": {
    "id": "i-CiF6O9WS2q"
   }
  },
  {
   "cell_type": "markdown",
   "source": [
    "Вводится одно число n.\n",
    "\n",
    "Используя модуль itertools, выведите в одной строке через запятую и пробел факториалы чисел от 0 до n.\n",
    "\n",
    "\n",
    "Запрещено использовать циклы, условные операторы и list comprehension.\n",
    "\n",
    "Например, для n = 7 на экран надо вывести:\n",
    "\n",
    "1, 1, 2, 6, 24, 120, 720, 5040"
   ],
   "metadata": {
    "id": "qs75u_OVWjd2"
   }
  },
  {
   "cell_type": "code",
   "source": [],
   "metadata": {
    "id": "q1dFCXhOW8ah"
   },
   "execution_count": null,
   "outputs": []
  }
 ]
}
